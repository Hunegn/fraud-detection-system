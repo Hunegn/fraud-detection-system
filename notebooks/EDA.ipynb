{
 "cells": [
  {
   "cell_type": "code",
   "execution_count": 2,
   "metadata": {},
   "outputs": [],
   "source": [
    "import pandas as pd\n",
    "import numpy as np\n",
    "import socket\n",
    "import struct\n",
    "import logging\n",
    "import os\n",
    "import matplotlib.pyplot as plt\n",
    "import seaborn as sns\n",
    "from sklearn.preprocessing import StandardScaler"
   ]
  },
  {
   "cell_type": "code",
   "execution_count": 3,
   "metadata": {},
   "outputs": [],
   "source": [
    "import sys\n",
    "import os\n",
    "sys.path.append(os.path.abspath('../scripts'))"
   ]
  },
  {
   "cell_type": "code",
   "execution_count": 4,
   "metadata": {},
   "outputs": [
    {
     "name": "stderr",
     "output_type": "stream",
     "text": [
      "2025-02-18 00:54:33,981 - INFO - FraudDataPreprocessor initialized.\n"
     ]
    }
   ],
   "source": [
    "from eda import ip_to_int, get_country, FraudDataPreprocessor\n",
    "fraud_data_path = \"../data/raw/Fraud_Data.csv\"\n",
    "ip_data_path = \"../data/raw/IpAddress_to_Country.csv\"\n",
    "output_path = \"../data/processed/processed_fraud_data.csv\"\n",
    "\n",
    "preprocessor = FraudDataPreprocessor(fraud_data_path, ip_data_path, output_path)"
   ]
  },
  {
   "cell_type": "code",
   "execution_count": 6,
   "metadata": {},
   "outputs": [
    {
     "name": "stderr",
     "output_type": "stream",
     "text": [
      "2025-02-18 00:55:43,044 - INFO - Loading Fraud_Data...\n",
      "2025-02-18 00:55:44,048 - INFO - Fraud_Data loaded with shape: (151112, 11)\n",
      "2025-02-18 00:55:44,049 - INFO - Loading IP Address Data...\n",
      "2025-02-18 00:55:44,223 - INFO - IpAddress_to_Country loaded with shape: (138846, 3)\n",
      "2025-02-18 00:55:44,224 - INFO - Cleaning data...\n",
      "2025-02-18 00:55:44,642 - INFO - Data shape after dropping duplicates: (151112, 11)\n",
      "2025-02-18 00:55:45,122 - INFO - Data cleaning completed.\n",
      "2025-02-18 00:55:45,123 - INFO - Converting IP addresses to integers...\n",
      "2025-02-18 00:55:46,468 - INFO - Merging Fraud_Data with IP-to-Country mapping...\n",
      "2025-02-18 00:55:46,701 - INFO - Performing exploratory data analysis...\n",
      "2025-02-18 00:55:46,871 - INFO - Summary statistics (numeric):\n",
      "             user_id  purchase_value            age    ip_address  \\\n",
      "count  151112.000000   151112.000000  151112.000000  1.511120e+05   \n",
      "mean   200171.040970       36.935372      33.140704  2.152145e+09   \n",
      "std    115369.285024       18.322762       8.617733  1.248497e+09   \n",
      "min         2.000000        9.000000      18.000000  5.209350e+04   \n",
      "25%    100642.500000       22.000000      27.000000  1.085934e+09   \n",
      "50%    199958.000000       35.000000      33.000000  2.154770e+09   \n",
      "75%    300054.000000       49.000000      39.000000  3.243258e+09   \n",
      "max    400000.000000      154.000000      76.000000  4.294850e+09   \n",
      "\n",
      "               class  ip_int  country  \n",
      "count  151112.000000     0.0      0.0  \n",
      "mean        0.093646     NaN      NaN  \n",
      "std         0.291336     NaN      NaN  \n",
      "min         0.000000     NaN      NaN  \n",
      "25%         0.000000     NaN      NaN  \n",
      "50%         0.000000     NaN      NaN  \n",
      "75%         0.000000     NaN      NaN  \n",
      "max         1.000000     NaN      NaN  \n",
      "2025-02-18 00:55:48,700 - INFO - Saved univariate plot for user_id as plots/distribution_user_id.png\n",
      "2025-02-18 00:55:50,752 - INFO - Saved univariate plot for purchase_value as plots/distribution_purchase_value.png\n",
      "2025-02-18 00:55:52,418 - INFO - Saved univariate plot for age as plots/distribution_age.png\n",
      "2025-02-18 00:55:54,135 - INFO - Saved univariate plot for ip_address as plots/distribution_ip_address.png\n",
      "2025-02-18 00:55:55,668 - INFO - Saved univariate plot for class as plots/distribution_class.png\n",
      "2025-02-18 00:55:56,246 - INFO - Saved univariate plot for ip_int as plots/distribution_ip_int.png\n",
      "2025-02-18 00:55:56,960 - INFO - Saved univariate plot for country as plots/distribution_country.png\n",
      "2025-02-18 00:55:57,837 - INFO - Saved correlation heatmap as plots/correlation_matrix.png\n",
      "2025-02-18 00:56:28,891 - INFO - Saved pairplot as plots/pairplot.png\n",
      "2025-02-18 00:56:28,892 - INFO - Performing feature engineering...\n",
      "2025-02-18 00:56:29,794 - INFO - Feature engineering completed.\n",
      "2025-02-18 00:56:29,796 - INFO - Normalizing numerical features...\n",
      "/home/hunegna/10x/10x_projects/fraud-detection-system/env-8/lib/python3.11/site-packages/sklearn/utils/extmath.py:1101: RuntimeWarning: invalid value encountered in divide\n",
      "  updated_mean = (last_sum + new_sum) / updated_sample_count\n",
      "/home/hunegna/10x/10x_projects/fraud-detection-system/env-8/lib/python3.11/site-packages/sklearn/utils/extmath.py:1106: RuntimeWarning: invalid value encountered in divide\n",
      "  T = new_sum / new_sample_count\n",
      "/home/hunegna/10x/10x_projects/fraud-detection-system/env-8/lib/python3.11/site-packages/sklearn/utils/extmath.py:1126: RuntimeWarning: invalid value encountered in divide\n",
      "  new_unnormalized_variance -= correction**2 / new_sample_count\n",
      "2025-02-18 00:56:29,937 - INFO - Normalization and scaling completed.\n",
      "2025-02-18 00:56:29,940 - INFO - Encoding categorical features using one-hot encoding...\n",
      "2025-02-18 00:56:30,295 - INFO - Categorical encoding completed.\n",
      "2025-02-18 00:56:34,165 - INFO - Preprocessed data saved to ../data/processed/processed_fraud_data.csv.\n"
     ]
    }
   ],
   "source": [
    "preprocessor.run_pipeline()"
   ]
  },
  {
   "cell_type": "code",
   "execution_count": null,
   "metadata": {},
   "outputs": [],
   "source": []
  }
 ],
 "metadata": {
  "kernelspec": {
   "display_name": "env-8",
   "language": "python",
   "name": "python3"
  },
  "language_info": {
   "codemirror_mode": {
    "name": "ipython",
    "version": 3
   },
   "file_extension": ".py",
   "mimetype": "text/x-python",
   "name": "python",
   "nbconvert_exporter": "python",
   "pygments_lexer": "ipython3",
   "version": "3.11.7"
  }
 },
 "nbformat": 4,
 "nbformat_minor": 2
}
