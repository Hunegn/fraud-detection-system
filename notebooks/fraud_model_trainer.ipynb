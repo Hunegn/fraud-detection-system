{
 "cells": [
  {
   "cell_type": "code",
   "execution_count": 2,
   "metadata": {},
   "outputs": [],
   "source": [
    "import pandas as pd\n",
    "import numpy as np\n",
    "import logging\n",
    "import mlflow\n",
    "import mlflow.sklearn\n",
    "from sklearn.model_selection import train_test_split, GridSearchCV\n",
    "from sklearn.metrics import accuracy_score, precision_score, recall_score, f1_score, roc_auc_score, classification_report\n",
    "from sklearn.linear_model import LogisticRegression\n",
    "from sklearn.tree import DecisionTreeClassifier\n",
    "from sklearn.ensemble import RandomForestClassifier, GradientBoostingClassifier"
   ]
  },
  {
   "cell_type": "code",
   "execution_count": 1,
   "metadata": {},
   "outputs": [],
   "source": [
    "import sys\n",
    "import os\n",
    "sys.path.append(os.path.abspath('../scripts'))"
   ]
  },
  {
   "cell_type": "code",
   "execution_count": 3,
   "metadata": {},
   "outputs": [],
   "source": [
    "from fraud_model_trainer import FraudModelTrainer"
   ]
  },
  {
   "cell_type": "code",
   "execution_count": 4,
   "metadata": {},
   "outputs": [
    {
     "name": "stderr",
     "output_type": "stream",
     "text": [
      "2025-02-18 01:04:29,108 - INFO - FraudModelTrainer initialized.\n",
      "2025-02-18 01:04:29,110 - INFO - Loading dataset...\n",
      "2025-02-18 01:04:30,053 - INFO - Data loaded with shape: (151112, 11)\n",
      "2025-02-18 01:04:30,055 - INFO - Preparing data...\n",
      "2025-02-18 01:04:30,145 - INFO - Train-test split completed.\n",
      "2025-02-18 01:04:30,423 - INFO - Training Logistic Regression...\n",
      "2025-02-18 01:04:39,006 - INFO - Best parameters for Logistic Regression: {'C': 0.1}\n",
      "2025-02-18 01:04:39,179 - INFO - Logistic Regression - Accuracy: 0.906979309127807, Precision: 0.0, Recall: 0.0, F1: 0.0, ROC-AUC: 0.4981129836440934\n",
      "/home/hunegna/10x/10x_projects/fraud-detection-system/env-8/lib/python3.11/site-packages/sklearn/metrics/_classification.py:1565: UndefinedMetricWarning: Precision is ill-defined and being set to 0.0 in labels with no predicted samples. Use `zero_division` parameter to control this behavior.\n",
      "  _warn_prf(average, modifier, f\"{metric.capitalize()} is\", len(result))\n",
      "/home/hunegna/10x/10x_projects/fraud-detection-system/env-8/lib/python3.11/site-packages/sklearn/metrics/_classification.py:1565: UndefinedMetricWarning: Precision is ill-defined and being set to 0.0 in labels with no predicted samples. Use `zero_division` parameter to control this behavior.\n",
      "  _warn_prf(average, modifier, f\"{metric.capitalize()} is\", len(result))\n",
      "/home/hunegna/10x/10x_projects/fraud-detection-system/env-8/lib/python3.11/site-packages/sklearn/metrics/_classification.py:1565: UndefinedMetricWarning: Precision is ill-defined and being set to 0.0 in labels with no predicted samples. Use `zero_division` parameter to control this behavior.\n",
      "  _warn_prf(average, modifier, f\"{metric.capitalize()} is\", len(result))\n"
     ]
    },
    {
     "name": "stdout",
     "output_type": "stream",
     "text": [
      "\n",
      "Logistic Regression Evaluation:\n",
      "               precision    recall  f1-score   support\n",
      "\n",
      "           0       0.91      1.00      0.95     41117\n",
      "           1       0.00      0.00      0.00      4217\n",
      "\n",
      "    accuracy                           0.91     45334\n",
      "   macro avg       0.45      0.50      0.48     45334\n",
      "weighted avg       0.82      0.91      0.86     45334\n",
      "\n"
     ]
    },
    {
     "name": "stderr",
     "output_type": "stream",
     "text": [
      "\u001b[31m2025/02/18 01:04:48 WARNING mlflow.models.model: Model logged without a signature and input example. Please set `input_example` parameter when logging the model to auto infer the model signature.\u001b[0m\n",
      "2025-02-18 01:04:48,269 - INFO - Training Decision Tree...\n",
      "2025-02-18 01:05:03,753 - INFO - Best parameters for Decision Tree: {'max_depth': 15}\n",
      "2025-02-18 01:05:03,878 - INFO - Decision Tree - Accuracy: 0.9085234040675872, Precision: 0.547683923705722, Recall: 0.09532843253497747, F1: 0.1623914360735205, ROC-AUC: 0.6238970258034313\n"
     ]
    },
    {
     "name": "stdout",
     "output_type": "stream",
     "text": [
      "\n",
      "Decision Tree Evaluation:\n",
      "               precision    recall  f1-score   support\n",
      "\n",
      "           0       0.91      0.99      0.95     41117\n",
      "           1       0.55      0.10      0.16      4217\n",
      "\n",
      "    accuracy                           0.91     45334\n",
      "   macro avg       0.73      0.54      0.56     45334\n",
      "weighted avg       0.88      0.91      0.88     45334\n",
      "\n"
     ]
    },
    {
     "name": "stderr",
     "output_type": "stream",
     "text": [
      "\u001b[31m2025/02/18 01:05:11 WARNING mlflow.models.model: Model logged without a signature and input example. Please set `input_example` parameter when logging the model to auto infer the model signature.\u001b[0m\n",
      "2025-02-18 01:05:11,275 - INFO - Training Random Forest...\n",
      "2025-02-18 01:11:25,261 - INFO - Best parameters for Random Forest: {'max_depth': 10, 'n_estimators': 100}\n",
      "2025-02-18 01:11:26,508 - INFO - Random Forest - Accuracy: 0.9073322451140424, Precision: 0.9444444444444444, Recall: 0.004031301873369694, F1: 0.008028335301062573, ROC-AUC: 0.6961984467316698\n"
     ]
    },
    {
     "name": "stdout",
     "output_type": "stream",
     "text": [
      "\n",
      "Random Forest Evaluation:\n",
      "               precision    recall  f1-score   support\n",
      "\n",
      "           0       0.91      1.00      0.95     41117\n",
      "           1       0.94      0.00      0.01      4217\n",
      "\n",
      "    accuracy                           0.91     45334\n",
      "   macro avg       0.93      0.50      0.48     45334\n",
      "weighted avg       0.91      0.91      0.86     45334\n",
      "\n"
     ]
    },
    {
     "name": "stderr",
     "output_type": "stream",
     "text": [
      "\u001b[31m2025/02/18 01:11:37 WARNING mlflow.models.model: Model logged without a signature and input example. Please set `input_example` parameter when logging the model to auto infer the model signature.\u001b[0m\n",
      "2025-02-18 01:11:37,906 - INFO - Training Gradient Boosting...\n",
      "2025-02-18 01:18:05,491 - INFO - Best parameters for Gradient Boosting: {'learning_rate': 0.1, 'n_estimators': 100}\n",
      "2025-02-18 01:18:05,813 - INFO - Gradient Boosting - Accuracy: 0.9070234261260863, Precision: 0.6, Recall: 0.0014228124258951862, F1: 0.0028388928317956, ROC-AUC: 0.5786831039406688\n"
     ]
    },
    {
     "name": "stdout",
     "output_type": "stream",
     "text": [
      "\n",
      "Gradient Boosting Evaluation:\n",
      "               precision    recall  f1-score   support\n",
      "\n",
      "           0       0.91      1.00      0.95     41117\n",
      "           1       0.60      0.00      0.00      4217\n",
      "\n",
      "    accuracy                           0.91     45334\n",
      "   macro avg       0.75      0.50      0.48     45334\n",
      "weighted avg       0.88      0.91      0.86     45334\n",
      "\n"
     ]
    },
    {
     "name": "stderr",
     "output_type": "stream",
     "text": [
      "\u001b[31m2025/02/18 01:18:15 WARNING mlflow.models.model: Model logged without a signature and input example. Please set `input_example` parameter when logging the model to auto infer the model signature.\u001b[0m\n"
     ]
    }
   ],
   "source": [
    "trainer = FraudModelTrainer(data_path=\"../data/raw/Fraud_Data.csv\", target_col=\"class\")\n",
    "trainer.run_training()"
   ]
  },
  {
   "cell_type": "code",
   "execution_count": null,
   "metadata": {},
   "outputs": [],
   "source": []
  }
 ],
 "metadata": {
  "kernelspec": {
   "display_name": "env-8",
   "language": "python",
   "name": "python3"
  },
  "language_info": {
   "codemirror_mode": {
    "name": "ipython",
    "version": 3
   },
   "file_extension": ".py",
   "mimetype": "text/x-python",
   "name": "python",
   "nbconvert_exporter": "python",
   "pygments_lexer": "ipython3",
   "version": "3.11.7"
  }
 },
 "nbformat": 4,
 "nbformat_minor": 2
}
